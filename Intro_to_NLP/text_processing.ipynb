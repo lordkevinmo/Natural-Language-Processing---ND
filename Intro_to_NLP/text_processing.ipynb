{
 "cells": [
  {
   "cell_type": "markdown",
   "metadata": {},
   "source": [
    "# Text Processing\n",
    "\n",
    "## Capturing Text Data\n",
    "\n",
    "### Plain Text"
   ]
  },
  {
   "cell_type": "code",
   "execution_count": 1,
   "metadata": {},
   "outputs": [
    {
     "name": "stdout",
     "output_type": "stream",
     "text": [
      "Hieroglyphic writing dates from c. 3000 BC, and is composed of hundreds of symbols. A hieroglyph can represent a word, a sound, or a silent determinative; and the same symbol can serve different purposes in different contexts. Hieroglyphs were a formal script, used on stone monuments and in tombs, that could be as detailed as individual works of art.\n",
      "\n"
     ]
    }
   ],
   "source": [
    "import os\n",
    "\n",
    "# Read in a plain text file\n",
    "with open(os.path.join(\"data\", \"hieroglyph.txt\"), \"r\") as f:\n",
    "    text = f.read()\n",
    "    print(text)"
   ]
  },
  {
   "cell_type": "markdown",
   "metadata": {},
   "source": [
    "### Tabular Data"
   ]
  },
  {
   "cell_type": "code",
   "execution_count": 2,
   "metadata": {
    "scrolled": true
   },
   "outputs": [
    {
     "data": {
      "text/html": [
       "<div>\n",
       "<style scoped>\n",
       "    .dataframe tbody tr th:only-of-type {\n",
       "        vertical-align: middle;\n",
       "    }\n",
       "\n",
       "    .dataframe tbody tr th {\n",
       "        vertical-align: top;\n",
       "    }\n",
       "\n",
       "    .dataframe thead th {\n",
       "        text-align: right;\n",
       "    }\n",
       "</style>\n",
       "<table border=\"1\" class=\"dataframe\">\n",
       "  <thead>\n",
       "    <tr style=\"text-align: right;\">\n",
       "      <th></th>\n",
       "      <th>publisher</th>\n",
       "      <th>title</th>\n",
       "    </tr>\n",
       "  </thead>\n",
       "  <tbody>\n",
       "    <tr>\n",
       "      <th>0</th>\n",
       "      <td>Livemint</td>\n",
       "      <td>fed's charles plosser sees high bar for change...</td>\n",
       "    </tr>\n",
       "    <tr>\n",
       "      <th>1</th>\n",
       "      <td>IFA Magazine</td>\n",
       "      <td>us open: stocks fall after fed official hints ...</td>\n",
       "    </tr>\n",
       "    <tr>\n",
       "      <th>2</th>\n",
       "      <td>IFA Magazine</td>\n",
       "      <td>fed risks falling 'behind the curve', charles ...</td>\n",
       "    </tr>\n",
       "    <tr>\n",
       "      <th>3</th>\n",
       "      <td>Moneynews</td>\n",
       "      <td>fed's plosser: nasty weather has curbed job gr...</td>\n",
       "    </tr>\n",
       "    <tr>\n",
       "      <th>4</th>\n",
       "      <td>NASDAQ</td>\n",
       "      <td>plosser: fed may have to accelerate tapering pace</td>\n",
       "    </tr>\n",
       "  </tbody>\n",
       "</table>\n",
       "</div>"
      ],
      "text/plain": [
       "      publisher                                              title\n",
       "0      Livemint  fed's charles plosser sees high bar for change...\n",
       "1  IFA Magazine  us open: stocks fall after fed official hints ...\n",
       "2  IFA Magazine  fed risks falling 'behind the curve', charles ...\n",
       "3     Moneynews  fed's plosser: nasty weather has curbed job gr...\n",
       "4        NASDAQ  plosser: fed may have to accelerate tapering pace"
      ]
     },
     "execution_count": 2,
     "metadata": {},
     "output_type": "execute_result"
    }
   ],
   "source": [
    "import pandas as pd\n",
    "\n",
    "# Extract text column from a dataframe\n",
    "df = pd.read_csv(os.path.join(\"data\", \"news.csv\"))\n",
    "df.head()[['publisher', 'title']]\n",
    "\n",
    "# Convert text column to lowercase\n",
    "df['title'] = df['title'].str.lower()\n",
    "df.head()[['publisher', 'title']]"
   ]
  },
  {
   "cell_type": "markdown",
   "metadata": {},
   "source": [
    "### Online Resource"
   ]
  },
  {
   "cell_type": "code",
   "execution_count": 3,
   "metadata": {
    "scrolled": true
   },
   "outputs": [
    {
     "name": "stdout",
     "output_type": "stream",
     "text": [
      "{\n",
      "    \"success\": {\n",
      "        \"total\": 1\n",
      "    },\n",
      "    \"contents\": {\n",
      "        \"quotes\": [\n",
      "            {\n",
      "                \"quote\": \"Don't be afraid of losing, be afraid of playing a game and not learning something.\",\n",
      "                \"length\": \"82\",\n",
      "                \"author\": \"Dan Heisman\",\n",
      "                \"tags\": [\n",
      "                    \"chess\",\n",
      "                    \"game\",\n",
      "                    \"inspire\",\n",
      "                    \"learning\",\n",
      "                    \"losing\",\n",
      "                    \"winning\"\n",
      "                ],\n",
      "                \"category\": \"inspire\",\n",
      "                \"language\": \"en\",\n",
      "                \"date\": \"2020-11-14\",\n",
      "                \"permalink\": \"https://theysaidso.com/quote/dan-heisman-dont-be-afraid-of-losing-be-afraid-of-playing-a-game-and-not-learnin\",\n",
      "                \"id\": \"QjquACBvuFGtDYv79nbG_QeF\",\n",
      "                \"background\": \"https://theysaidso.com/img/qod/qod-inspire.jpg\",\n",
      "                \"title\": \"Inspiring Quote of the day\"\n",
      "            }\n",
      "        ]\n",
      "    },\n",
      "    \"baseurl\": \"https://theysaidso.com\",\n",
      "    \"copyright\": {\n",
      "        \"year\": 2022,\n",
      "        \"url\": \"https://theysaidso.com\"\n",
      "    }\n",
      "}\n",
      "Don't be afraid of losing, be afraid of playing a game and not learning something. \n",
      "-- Dan Heisman\n"
     ]
    }
   ],
   "source": [
    "import requests\n",
    "import json\n",
    "\n",
    "# Fetch data from a REST API\n",
    "r = requests.get(\n",
    "    \"https://quotes.rest/qod.json\")\n",
    "res = r.json()\n",
    "print(json.dumps(res, indent=4))\n",
    "\n",
    "# Extract relevant object and field\n",
    "q = res[\"contents\"][\"quotes\"][0]\n",
    "print(q[\"quote\"], \"\\n--\", q[\"author\"])"
   ]
  },
  {
   "cell_type": "markdown",
   "metadata": {},
   "source": [
    "## Cleaning"
   ]
  },
  {
   "cell_type": "code",
   "execution_count": 4,
   "metadata": {
    "scrolled": true
   },
   "outputs": [
    {
     "name": "stdout",
     "output_type": "stream",
     "text": [
      "<html lang=\"en\" op=\"news\"><head><meta name=\"referrer\" content=\"origin\"><meta name=\"viewport\" content=\"width=device-width, initial-scale=1.0\"><link rel=\"stylesheet\" type=\"text/css\" href=\"news.css?fVvsFovZkUlGSpAVgifJ\">\n",
      "        <link rel=\"shortcut icon\" href=\"favicon.ico\">\n",
      "          <link rel=\"alternate\" type=\"application/rss+xml\" title=\"RSS\" href=\"rss\">\n",
      "        <title>Hacker News</title></head><body><center><table id=\"hnmain\" border=\"0\" cellpadding=\"0\" cellspacing=\"0\" width=\"85%\" bgcolor=\"#f6f6ef\">\n",
      "        <tr><td bgcolor=\"#ff6600\"><table border=\"0\" cellpadding=\"0\" cellspacing=\"0\" width=\"100%\" style=\"padding:2px\"><tr><td style=\"width:18px;padding-right:4px\"><a href=\"https://news.ycombinator.com\"><img src=\"y18.gif\" width=\"18\" height=\"18\" style=\"border:1px white solid;\"></a></td>\n",
      "                  <td style=\"line-height:12pt; height:10px;\"><span class=\"pagetop\"><b class=\"hnname\"><a href=\"news\">Hacker News</a></b>\n",
      "              <a href=\"newest\">new</a> | <a href=\"front\">past</a> | <a href=\"newcomments\">comments</a> | <a href=\"ask\">ask</a> | <a href=\"show\">show</a> | <a href=\"jobs\">jobs</a> | <a href=\"submit\">submit</a>            </span></td><td style=\"text-align:right;padding-right:4px;\"><span class=\"pagetop\">\n",
      "                              <a href=\"login?goto=news\">login</a>\n",
      "                          </span></td>\n",
      "              </tr></table></td></tr>\n",
      "<tr id=\"pagespace\" title=\"\" style=\"height:10px\"></tr><tr><td><table border=\"0\" cellpadding=\"0\" cellspacing=\"0\" class=\"itemlist\">\n",
      "              <tr class='athing' id='25091420'>\n",
      "      <td align=\"right\" valign=\"top\" class=\"title\"><span class=\"rank\">1.</span></td>      <td valign=\"top\" class=\"votelinks\"><center><a id='up_25091420' href='vote?id=25091420&amp;how=up&amp;goto=news'><div class='votearrow' title='upvote'></div></a></center></td><td class=\"title\"><a href=\"https://gurjeet.singh.im/blog/never-use-google-to-sign-in\" class=\"storylink\">Never Use Google to Sign-In</a><span class=\"sitebit comhead\"> (<a href=\"from?site=singh.im\"><span class=\"sitestr\">singh.im</span></a>)</span></td></tr><tr><td colspan=\"2\"></td><td class=\"subtext\">\n",
      "        <span class=\"score\" id=\"score_25091420\">192 points</span> by <a href=\"user?id=gurjeet\" class=\"hnuser\">gurjeet</a> <span class=\"age\"><a href=\"item?id=25091420\">2 hours ago</a></span> <span id=\"unv_25091420\"></span> | <a href=\"hide?id=25091420&amp;goto=news\">hide</a> | <a href=\"item?id=25091420\">115&nbsp;comments</a>              </td></tr>\n",
      "      <tr class=\"spacer\" style=\"height:5px\"></tr>\n",
      "                <tr class='athing' id='25091705'>\n",
      "      <td align=\"right\" valign=\"top\" class=\"title\"><span class=\"rank\">2.</span></td>      <td valign=\"top\" class=\"votelinks\"><center><a id='up_25091705' href='vote?id=25091705&amp;how=up&amp;goto=news'><div class='votearrow' title='upvote'></div></a></center></td><td class=\"title\"><a href=\"https://pwlconf.org/2019/shriram-krishnamurthi/\" class=\"storylink\">On the expressive power of programming languages</a><span class=\"sitebit comhead\"> (<a href=\"from?site=pwlconf.org\"><span class=\"sitestr\">pwlconf.org</span></a>)</span></td></tr><tr><td colspan=\"2\"></td><td class=\"subtext\">\n",
      "        <span class=\"score\" id=\"score_25091705\">27 points</span> by <a href=\"user?id=fanf2\" class=\"hnuser\">fanf2</a> <span class=\"age\"><a href=\"item?id=25091705\">1 hour ago</a></span> <span id=\"unv_25091705\"></span> | <a href=\"hide?id=25091705&amp;goto=news\">hide</a> | <a href=\"item?id=25091705\">discuss</a>              </td></tr>\n",
      "      <tr class=\"spacer\" style=\"height:5px\"></tr>\n",
      "                <tr class='athing' id='25090218'>\n",
      "      <td align=\"right\" valign=\"top\" class=\"title\"><span class=\"rank\">3.</span></td>      <td valign=\"top\" class=\"votelinks\"><center><a id='up_25090218' href='vote?id=25090218&amp;how=up&amp;goto=news'><div class='votearrow' title='upvote'></div></a></center></td><td class=\"title\"><a href=\"https://simonwillison.net/2020/Nov/14/personal-data-warehouses/\" class=\"storylink\">Personal Data Warehouses: Reclaiming Your Data</a><span class=\"sitebit comhead\"> (<a href=\"from?site=simonwillison.net\"><span class=\"sitestr\">simonwillison.net</span></a>)</span></td></tr><tr><td colspan=\"2\"></td><td class=\"subtext\">\n",
      "        <span class=\"score\" id=\"score_25090218\">265 points</span> by <a href=\"user?id=simonw\" class=\"hnuser\">simonw</a> <span class=\"age\"><a href=\"item?id=25090218\">8 hours ago</a></span> <span id=\"unv_25090218\"></span> | <a href=\"hide?id=25090218&amp;goto=news\">hide</a> | <a href=\"item?id=25090218\">31&nbsp;comments</a>              </td></tr>\n",
      "      <tr class=\"spacer\" style=\"height:5px\"></tr>\n",
      "                <tr class='athing' id='25090877'>\n",
      "      <td align=\"right\" valign=\"top\" class=\"title\"><span class=\"rank\">4.</span></td>      <td valign=\"top\" class=\"votelinks\"><center><a id='up_25090877' href='vote?id=25090877&amp;how=up&amp;goto=news'><div class='votearrow' title='upvote'></div></a></center></td><td class=\"title\"><a href=\"https://en.wikipedia.org/wiki/British_Airways_Flight_5390\" class=\"storylink\">British Airways Flight 5390</a><span class=\"sitebit comhead\"> (<a href=\"from?site=wikipedia.org\"><span class=\"sitestr\">wikipedia.org</span></a>)</span></td></tr><tr><td colspan=\"2\"></td><td class=\"subtext\">\n",
      "        <span class=\"score\" id=\"score_25090877\">85 points</span> by <a href=\"user?id=benbreen\" class=\"hnuser\">benbreen</a> <span class=\"age\"><a href=\"item?id=25090877\">5 hours ago</a></span> <span id=\"unv_25090877\"></span> | <a href=\"hide?id=25090877&amp;goto=news\">hide</a> | <a href=\"item?id=25090877\">45&nbsp;comments</a>              </td></tr>\n",
      "      <tr class=\"spacer\" style=\"height:5px\"></tr>\n",
      "                <tr class='athing' id='25091401'>\n",
      "      <td align=\"right\" valign=\"top\" class=\"title\"><span class=\"rank\">5.</span></td>      <td valign=\"top\" class=\"votelinks\"><center><a id='up_25091401' href='vote?id=25091401&amp;how=up&amp;goto=news'><div class='votearrow' title='upvote'></div></a></center></td><td class=\"title\"><a href=\"http://dmitry.gr/?r=05.Projects&amp;proj=28.%20pokewalker\" class=\"storylink\">PokéWalker hacking: A complete device takeover and ROM dump using infrared</a><span class=\"sitebit comhead\"> (<a href=\"from?site=dmitry.gr\"><span class=\"sitestr\">dmitry.gr</span></a>)</span></td></tr><tr><td colspan=\"2\"></td><td class=\"subtext\">\n",
      "        <span class=\"score\" id=\"score_25091401\">33 points</span> by <a href=\"user?id=beefhash\" class=\"hnuser\">beefhash</a> <span class=\"age\"><a href=\"item?id=25091401\">2 hours ago</a></span> <span id=\"unv_25091401\"></span> | <a href=\"hide?id=25091401&amp;goto=news\">hide</a> | <a href=\"item?id=25091401\">6&nbsp;comments</a>              </td></tr>\n",
      "      <tr class=\"spacer\" style=\"height:5px\"></tr>\n",
      "                <tr class='athing' id='25091765'>\n",
      "      <td align=\"right\" valign=\"top\" class=\"title\"><span class=\"rank\">6.</span></td>      <td valign=\"top\" class=\"votelinks\"><center><a id='up_25091765' href='vote?id=25091765&amp;how=up&amp;goto=news'><div class='votearrow' title='upvote'></div></a></center></td><td class=\"title\"><a href=\"https://www.cbs.mpg.de/empathy-and-perspective-taking-how-social-skills-are-built\" class=\"storylink\">Empathy and perspective taking: How social skills are built</a><span class=\"sitebit comhead\"> (<a href=\"from?site=mpg.de\"><span class=\"sitestr\">mpg.de</span></a>)</span></td></tr><tr><td colspan=\"2\"></td><td class=\"subtext\">\n",
      "        <span class=\"score\" id=\"score_25091765\">12 points</span> by <a href=\"user?id=CapitalistCartr\" class=\"hnuser\">CapitalistCartr</a> <span class=\"age\"><a href=\"item?id=25091765\">59 minutes ago</a></span> <span id=\"unv_25091765\"></span> | <a href=\"hide?id=25091765&amp;goto=news\">hide</a> | <a href=\"item?id=25091765\">4&nbsp;comments</a>              </td></tr>\n",
      "      <tr class=\"spacer\" style=\"height:5px\"></tr>\n",
      "                <tr class='athing' id='25091823'>\n",
      "      <td align=\"right\" valign=\"top\" class=\"title\"><span class=\"rank\">7.</span></td>      <td valign=\"top\" class=\"votelinks\"><center><a id='up_25091823' href='vote?id=25091823&amp;how=up&amp;goto=news'><div class='votearrow' title='upvote'></div></a></center></td><td class=\"title\"><a href=\"https://www.theregister.com/2020/11/14/google_android_data_allowance/\" class=\"storylink\">Google sued: Idle Android eats mobile data to send telemetry and preload ads</a><span class=\"sitebit comhead\"> (<a href=\"from?site=theregister.com\"><span class=\"sitestr\">theregister.com</span></a>)</span></td></tr><tr><td colspan=\"2\"></td><td class=\"subtext\">\n",
      "        <span class=\"score\" id=\"score_25091823\">40 points</span> by <a href=\"user?id=WarOnPrivacy\" class=\"hnuser\">WarOnPrivacy</a> <span class=\"age\"><a href=\"item?id=25091823\">47 minutes ago</a></span> <span id=\"unv_25091823\"></span> | <a href=\"hide?id=25091823&amp;goto=news\">hide</a> | <a href=\"item?id=25091823\">3&nbsp;comments</a>              </td></tr>\n",
      "      <tr class=\"spacer\" style=\"height:5px\"></tr>\n",
      "                <tr class='athing' id='25091725'>\n",
      "      <td align=\"right\" valign=\"top\" class=\"title\"><span class=\"rank\">8.</span></td>      <td valign=\"top\" class=\"votelinks\"><center><a id='up_25091725' href='vote?id=25091725&amp;how=up&amp;goto=news'><div class='votearrow' title='upvote'></div></a></center></td><td class=\"title\"><a href=\"https://www.smithsonianmag.com/innovation/tiny-bubbles-under-ship-may-be-secret-to-reducing-fuel-consumption-180976278/\" class=\"storylink\" rel=\"nofollow\">Tiny Bubbles Under a Ship May Be the Secret to Reducing Fuel Consumption</a><span class=\"sitebit comhead\"> (<a href=\"from?site=smithsonianmag.com\"><span class=\"sitestr\">smithsonianmag.com</span></a>)</span></td></tr><tr><td colspan=\"2\"></td><td class=\"subtext\">\n",
      "        <span class=\"score\" id=\"score_25091725\">6 points</span> by <a href=\"user?id=pseudolus\" class=\"hnuser\">pseudolus</a> <span class=\"age\"><a href=\"item?id=25091725\">1 hour ago</a></span> <span id=\"unv_25091725\"></span> | <a href=\"hide?id=25091725&amp;goto=news\">hide</a> | <a href=\"item?id=25091725\">1&nbsp;comment</a>              </td></tr>\n",
      "      <tr class=\"spacer\" style=\"height:5px\"></tr>\n",
      "                <tr class='athing' id='25090760'>\n",
      "      <td align=\"right\" valign=\"top\" class=\"title\"><span class=\"rank\">9.</span></td>      <td valign=\"top\" class=\"votelinks\"><center><a id='up_25090760' href='vote?id=25090760&amp;how=up&amp;goto=news'><div class='votearrow' title='upvote'></div></a></center></td><td class=\"title\"><a href=\"https://danluu.com/deconstruct-files/\" class=\"storylink\">Files Are Fraught with Peril (2019)</a><span class=\"sitebit comhead\"> (<a href=\"from?site=danluu.com\"><span class=\"sitestr\">danluu.com</span></a>)</span></td></tr><tr><td colspan=\"2\"></td><td class=\"subtext\">\n",
      "        <span class=\"score\" id=\"score_25090760\">65 points</span> by <a href=\"user?id=bshanks\" class=\"hnuser\">bshanks</a> <span class=\"age\"><a href=\"item?id=25090760\">5 hours ago</a></span> <span id=\"unv_25090760\"></span> | <a href=\"hide?id=25090760&amp;goto=news\">hide</a> | <a href=\"item?id=25090760\">22&nbsp;comments</a>              </td></tr>\n",
      "      <tr class=\"spacer\" style=\"height:5px\"></tr>\n",
      "                <tr class='athing' id='25085597'>\n",
      "      <td align=\"right\" valign=\"top\" class=\"title\"><span class=\"rank\">10.</span></td>      <td valign=\"top\" class=\"votelinks\"><center><a id='up_25085597' href='vote?id=25085597&amp;how=up&amp;goto=news'><div class='votearrow' title='upvote'></div></a></center></td><td class=\"title\"><a href=\"https://www.wsj.com/articles/the-overnight-business-boom-that-took-a-century-11605285592\" class=\"storylink\">The Overnight Business Boom That Took a Century</a><span class=\"sitebit comhead\"> (<a href=\"from?site=wsj.com\"><span class=\"sitestr\">wsj.com</span></a>)</span></td></tr><tr><td colspan=\"2\"></td><td class=\"subtext\">\n",
      "        <span class=\"score\" id=\"score_25085597\">8 points</span> by <a href=\"user?id=prostoalex\" class=\"hnuser\">prostoalex</a> <span class=\"age\"><a href=\"item?id=25085597\">2 hours ago</a></span> <span id=\"unv_25085597\"></span> | <a href=\"hide?id=25085597&amp;goto=news\">hide</a> | <a href=\"item?id=25085597\">discuss</a>              </td></tr>\n",
      "      <tr class=\"spacer\" style=\"height:5px\"></tr>\n",
      "                <tr class='athing' id='25078209'>\n",
      "      <td align=\"right\" valign=\"top\" class=\"title\"><span class=\"rank\">11.</span></td>      <td valign=\"top\" class=\"votelinks\"><center><a id='up_25078209' href='vote?id=25078209&amp;how=up&amp;goto=news'><div class='votearrow' title='upvote'></div></a></center></td><td class=\"title\"><a href=\"https://lukeplant.me.uk/blog/posts/everything-is-an-x-pattern/\" class=\"storylink\">Everything Is an X</a><span class=\"sitebit comhead\"> (<a href=\"from?site=lukeplant.me.uk\"><span class=\"sitestr\">lukeplant.me.uk</span></a>)</span></td></tr><tr><td colspan=\"2\"></td><td class=\"subtext\">\n",
      "        <span class=\"score\" id=\"score_25078209\">66 points</span> by <a href=\"user?id=polm23\" class=\"hnuser\">polm23</a> <span class=\"age\"><a href=\"item?id=25078209\">5 hours ago</a></span> <span id=\"unv_25078209\"></span> | <a href=\"hide?id=25078209&amp;goto=news\">hide</a> | <a href=\"item?id=25078209\">20&nbsp;comments</a>              </td></tr>\n",
      "      <tr class=\"spacer\" style=\"height:5px\"></tr>\n",
      "                <tr class='athing' id='25090176'>\n",
      "      <td align=\"right\" valign=\"top\" class=\"title\"><span class=\"rank\">12.</span></td>      <td valign=\"top\" class=\"votelinks\"><center><a id='up_25090176' href='vote?id=25090176&amp;how=up&amp;goto=news'><div class='votearrow' title='upvote'></div></a></center></td><td class=\"title\"><a href=\"https://github.com/logseq/logseq\" class=\"storylink\">Logseq – privacy-first, open-source knowledge sharing and management platform</a><span class=\"sitebit comhead\"> (<a href=\"from?site=github.com/logseq\"><span class=\"sitestr\">github.com/logseq</span></a>)</span></td></tr><tr><td colspan=\"2\"></td><td class=\"subtext\">\n",
      "        <span class=\"score\" id=\"score_25090176\">136 points</span> by <a href=\"user?id=simonpure\" class=\"hnuser\">simonpure</a> <span class=\"age\"><a href=\"item?id=25090176\">8 hours ago</a></span> <span id=\"unv_25090176\"></span> | <a href=\"hide?id=25090176&amp;goto=news\">hide</a> | <a href=\"item?id=25090176\">14&nbsp;comments</a>              </td></tr>\n",
      "      <tr class=\"spacer\" style=\"height:5px\"></tr>\n",
      "                <tr class='athing' id='25088683'>\n",
      "      <td align=\"right\" valign=\"top\" class=\"title\"><span class=\"rank\">13.</span></td>      <td valign=\"top\" class=\"votelinks\"><center><a id='up_25088683' href='vote?id=25088683&amp;how=up&amp;goto=news'><div class='votearrow' title='upvote'></div></a></center></td><td class=\"title\"><a href=\"https://www.dwitter.net/d/20584\" class=\"storylink\">Show HN: A Stargate in 140 chars of JavaScript</a><span class=\"sitebit comhead\"> (<a href=\"from?site=dwitter.net\"><span class=\"sitestr\">dwitter.net</span></a>)</span></td></tr><tr><td colspan=\"2\"></td><td class=\"subtext\">\n",
      "        <span class=\"score\" id=\"score_25088683\">303 points</span> by <a href=\"user?id=tomxor\" class=\"hnuser\">tomxor</a> <span class=\"age\"><a href=\"item?id=25088683\">13 hours ago</a></span> <span id=\"unv_25088683\"></span> | <a href=\"hide?id=25088683&amp;goto=news\">hide</a> | <a href=\"item?id=25088683\">37&nbsp;comments</a>              </td></tr>\n",
      "      <tr class=\"spacer\" style=\"height:5px\"></tr>\n",
      "                <tr class='athing' id='25090816'>\n",
      "      <td align=\"right\" valign=\"top\" class=\"title\"><span class=\"rank\">14.</span></td>      <td valign=\"top\" class=\"votelinks\"><center><a id='up_25090816' href='vote?id=25090816&amp;how=up&amp;goto=news'><div class='votearrow' title='upvote'></div></a></center></td><td class=\"title\"><a href=\"https://lukeplant.me.uk/blog/posts/less-powerful-languages/\" class=\"storylink\">We need less powerful languages (2015)</a><span class=\"sitebit comhead\"> (<a href=\"from?site=lukeplant.me.uk\"><span class=\"sitestr\">lukeplant.me.uk</span></a>)</span></td></tr><tr><td colspan=\"2\"></td><td class=\"subtext\">\n",
      "        <span class=\"score\" id=\"score_25090816\">37 points</span> by <a href=\"user?id=bshanks\" class=\"hnuser\">bshanks</a> <span class=\"age\"><a href=\"item?id=25090816\">5 hours ago</a></span> <span id=\"unv_25090816\"></span> | <a href=\"hide?id=25090816&amp;goto=news\">hide</a> | <a href=\"item?id=25090816\">22&nbsp;comments</a>              </td></tr>\n",
      "      <tr class=\"spacer\" style=\"height:5px\"></tr>\n",
      "                <tr class='athing' id='25086422'>\n",
      "      <td align=\"right\" valign=\"top\" class=\"title\"><span class=\"rank\">15.</span></td>      <td valign=\"top\" class=\"votelinks\"><center><a id='up_25086422' href='vote?id=25086422&amp;how=up&amp;goto=news'><div class='votearrow' title='upvote'></div></a></center></td><td class=\"title\"><a href=\"https://gfxbench.com/compare.jsp?benchmark=gfx50&amp;did1=90754264&amp;os1=OS%20X&amp;api1=metal&amp;hwtype1=GPU&amp;hwname1=Apple+M1&amp;did2=40679076&amp;os2=OS%20X&amp;api2=metal&amp;hwtype2=dGPU&amp;hwname2=NVIDIA+GeForce+GTX+1050+Ti\" class=\"storylink\">GFXBench: Apple M1</a><span class=\"sitebit comhead\"> (<a href=\"from?site=gfxbench.com\"><span class=\"sitestr\">gfxbench.com</span></a>)</span></td></tr><tr><td colspan=\"2\"></td><td class=\"subtext\">\n",
      "        <span class=\"score\" id=\"score_25086422\">250 points</span> by <a href=\"user?id=admiralspoo\" class=\"hnuser\">admiralspoo</a> <span class=\"age\"><a href=\"item?id=25086422\">17 hours ago</a></span> <span id=\"unv_25086422\"></span> | <a href=\"hide?id=25086422&amp;goto=news\">hide</a> | <a href=\"item?id=25086422\">431&nbsp;comments</a>              </td></tr>\n",
      "      <tr class=\"spacer\" style=\"height:5px\"></tr>\n",
      "                <tr class='athing' id='25091739'>\n",
      "      <td align=\"right\" valign=\"top\" class=\"title\"><span class=\"rank\">16.</span></td>      <td valign=\"top\" class=\"votelinks\"><center><a id='up_25091739' href='vote?id=25091739&amp;how=up&amp;goto=news'><div class='votearrow' title='upvote'></div></a></center></td><td class=\"title\"><a href=\"https://www.andrewdenty.com/blog/2020/07/01/a-visual-comparison-of-macos-catalina-and-big-sur.html\" class=\"storylink\" rel=\"nofollow\">A Visual Comparison of macOS Catalina and Big Sur</a><span class=\"sitebit comhead\"> (<a href=\"from?site=andrewdenty.com\"><span class=\"sitestr\">andrewdenty.com</span></a>)</span></td></tr><tr><td colspan=\"2\"></td><td class=\"subtext\">\n",
      "        <span class=\"score\" id=\"score_25091739\">3 points</span> by <a href=\"user?id=Kaibeezy\" class=\"hnuser\">Kaibeezy</a> <span class=\"age\"><a href=\"item?id=25091739\">1 hour ago</a></span> <span id=\"unv_25091739\"></span> | <a href=\"hide?id=25091739&amp;goto=news\">hide</a> | <a href=\"item?id=25091739\">1&nbsp;comment</a>              </td></tr>\n",
      "      <tr class=\"spacer\" style=\"height:5px\"></tr>\n",
      "                <tr class='athing' id='25088417'>\n",
      "      <td align=\"right\" valign=\"top\" class=\"title\"><span class=\"rank\">17.</span></td>      <td valign=\"top\" class=\"votelinks\"><center><a id='up_25088417' href='vote?id=25088417&amp;how=up&amp;goto=news'><div class='votearrow' title='upvote'></div></a></center></td><td class=\"title\"><a href=\"https://knowablemagazine.org/article/society/2020/fact-or-fantasy-tales-linguistic-fringe\" class=\"storylink\">Fact or fantasy? Tales from the linguistic fringe</a><span class=\"sitebit comhead\"> (<a href=\"from?site=knowablemagazine.org\"><span class=\"sitestr\">knowablemagazine.org</span></a>)</span></td></tr><tr><td colspan=\"2\"></td><td class=\"subtext\">\n",
      "        <span class=\"score\" id=\"score_25088417\">16 points</span> by <a href=\"user?id=hoffmannesque\" class=\"hnuser\">hoffmannesque</a> <span class=\"age\"><a href=\"item?id=25088417\">4 hours ago</a></span> <span id=\"unv_25088417\"></span> | <a href=\"hide?id=25088417&amp;goto=news\">hide</a> | <a href=\"item?id=25088417\">1&nbsp;comment</a>              </td></tr>\n",
      "      <tr class=\"spacer\" style=\"height:5px\"></tr>\n",
      "                <tr class='athing' id='25088873'>\n",
      "      <td align=\"right\" valign=\"top\" class=\"title\"><span class=\"rank\">18.</span></td>      <td valign=\"top\" class=\"votelinks\"><center><a id='up_25088873' href='vote?id=25088873&amp;how=up&amp;goto=news'><div class='votearrow' title='upvote'></div></a></center></td><td class=\"title\"><a href=\"https://github.com/solemnwarning/rehex\" class=\"storylink\">Rehex – Reverse Engineers' Hex Editor</a><span class=\"sitebit comhead\"> (<a href=\"from?site=github.com/solemnwarning\"><span class=\"sitestr\">github.com/solemnwarning</span></a>)</span></td></tr><tr><td colspan=\"2\"></td><td class=\"subtext\">\n",
      "        <span class=\"score\" id=\"score_25088873\">138 points</span> by <a href=\"user?id=app4soft\" class=\"hnuser\">app4soft</a> <span class=\"age\"><a href=\"item?id=25088873\">13 hours ago</a></span> <span id=\"unv_25088873\"></span> | <a href=\"hide?id=25088873&amp;goto=news\">hide</a> | <a href=\"item?id=25088873\">39&nbsp;comments</a>              </td></tr>\n",
      "      <tr class=\"spacer\" style=\"height:5px\"></tr>\n",
      "                <tr class='athing' id='25086256'>\n",
      "      <td align=\"right\" valign=\"top\" class=\"title\"><span class=\"rank\">19.</span></td>      <td valign=\"top\" class=\"votelinks\"><center><a id='up_25086256' href='vote?id=25086256&amp;how=up&amp;goto=news'><div class='votearrow' title='upvote'></div></a></center></td><td class=\"title\"><a href=\"https://stopa.io/post/258\" class=\"storylink\">Simulating RAM in Clojure</a><span class=\"sitebit comhead\"> (<a href=\"from?site=stopa.io\"><span class=\"sitestr\">stopa.io</span></a>)</span></td></tr><tr><td colspan=\"2\"></td><td class=\"subtext\">\n",
      "        <span class=\"score\" id=\"score_25086256\">118 points</span> by <a href=\"user?id=stopachka\" class=\"hnuser\">stopachka</a> <span class=\"age\"><a href=\"item?id=25086256\">12 hours ago</a></span> <span id=\"unv_25086256\"></span> | <a href=\"hide?id=25086256&amp;goto=news\">hide</a> | <a href=\"item?id=25086256\">9&nbsp;comments</a>              </td></tr>\n",
      "      <tr class=\"spacer\" style=\"height:5px\"></tr>\n",
      "                <tr class='athing' id='25086045'>\n",
      "      <td align=\"right\" valign=\"top\" class=\"title\"><span class=\"rank\">20.</span></td>      <td valign=\"top\" class=\"votelinks\"><center><a id='up_25086045' href='vote?id=25086045&amp;how=up&amp;goto=news'><div class='votearrow' title='upvote'></div></a></center></td><td class=\"title\"><a href=\"https://www.reuters.com/article/us-gm-recall/gm-recalling-nearly-69000-bolt-evs-for-fire-risks-idUSKBN27T2LG\" class=\"storylink\">GM recalling nearly 69,000 Bolt EVs for fire risks</a><span class=\"sitebit comhead\"> (<a href=\"from?site=reuters.com\"><span class=\"sitestr\">reuters.com</span></a>)</span></td></tr><tr><td colspan=\"2\"></td><td class=\"subtext\">\n",
      "        <span class=\"score\" id=\"score_25086045\">162 points</span> by <a href=\"user?id=hhs\" class=\"hnuser\">hhs</a> <span class=\"age\"><a href=\"item?id=25086045\">17 hours ago</a></span> <span id=\"unv_25086045\"></span> | <a href=\"hide?id=25086045&amp;goto=news\">hide</a> | <a href=\"item?id=25086045\">82&nbsp;comments</a>              </td></tr>\n",
      "      <tr class=\"spacer\" style=\"height:5px\"></tr>\n",
      "                <tr class='athing' id='25088913'>\n",
      "      <td align=\"right\" valign=\"top\" class=\"title\"><span class=\"rank\">21.</span></td>      <td valign=\"top\" class=\"votelinks\"><center><a id='up_25088913' href='vote?id=25088913&amp;how=up&amp;goto=news'><div class='votearrow' title='upvote'></div></a></center></td><td class=\"title\"><a href=\"https://play-with-go.dev/guides.html\" class=\"storylink\">Play with Go</a><span class=\"sitebit comhead\"> (<a href=\"from?site=play-with-go.dev\"><span class=\"sitestr\">play-with-go.dev</span></a>)</span></td></tr><tr><td colspan=\"2\"></td><td class=\"subtext\">\n",
      "        <span class=\"score\" id=\"score_25088913\">102 points</span> by <a href=\"user?id=philosopher1234\" class=\"hnuser\">philosopher1234</a> <span class=\"age\"><a href=\"item?id=25088913\">13 hours ago</a></span> <span id=\"unv_25088913\"></span> | <a href=\"hide?id=25088913&amp;goto=news\">hide</a> | <a href=\"item?id=25088913\">5&nbsp;comments</a>              </td></tr>\n",
      "      <tr class=\"spacer\" style=\"height:5px\"></tr>\n",
      "                <tr class='athing' id='25088400'>\n",
      "      <td align=\"right\" valign=\"top\" class=\"title\"><span class=\"rank\">22.</span></td>      <td valign=\"top\" class=\"votelinks\"><center><a id='up_25088400' href='vote?id=25088400&amp;how=up&amp;goto=news'><div class='votearrow' title='upvote'></div></a></center></td><td class=\"title\"><a href=\"https://aeon.co/essays/why-childhood-and-old-age-are-key-to-our-human-capacities\" class=\"storylink\">Vulnerable yet vital: Why childhood and old age are key to our human capacities</a><span class=\"sitebit comhead\"> (<a href=\"from?site=aeon.co\"><span class=\"sitestr\">aeon.co</span></a>)</span></td></tr><tr><td colspan=\"2\"></td><td class=\"subtext\">\n",
      "        <span class=\"score\" id=\"score_25088400\">41 points</span> by <a href=\"user?id=ohaikbai\" class=\"hnuser\">ohaikbai</a> <span class=\"age\"><a href=\"item?id=25088400\">8 hours ago</a></span> <span id=\"unv_25088400\"></span> | <a href=\"hide?id=25088400&amp;goto=news\">hide</a> | <a href=\"item?id=25088400\">3&nbsp;comments</a>              </td></tr>\n",
      "      <tr class=\"spacer\" style=\"height:5px\"></tr>\n",
      "                <tr class='athing' id='25083946'>\n",
      "      <td align=\"right\" valign=\"top\" class=\"title\"><span class=\"rank\">23.</span></td>      <td valign=\"top\" class=\"votelinks\"><center><a id='up_25083946' href='vote?id=25083946&amp;how=up&amp;goto=news'><div class='votearrow' title='upvote'></div></a></center></td><td class=\"title\"><a href=\"https://www.collaborativefund.com/blog/the-big-lessons-from-history/\" class=\"storylink\">The Big Lessons from History</a><span class=\"sitebit comhead\"> (<a href=\"from?site=collaborativefund.com\"><span class=\"sitestr\">collaborativefund.com</span></a>)</span></td></tr><tr><td colspan=\"2\"></td><td class=\"subtext\">\n",
      "        <span class=\"score\" id=\"score_25083946\">34 points</span> by <a href=\"user?id=yarapavan\" class=\"hnuser\">yarapavan</a> <span class=\"age\"><a href=\"item?id=25083946\">6 hours ago</a></span> <span id=\"unv_25083946\"></span> | <a href=\"hide?id=25083946&amp;goto=news\">hide</a> | <a href=\"item?id=25083946\">18&nbsp;comments</a>              </td></tr>\n",
      "      <tr class=\"spacer\" style=\"height:5px\"></tr>\n",
      "                <tr class='athing' id='25084506'>\n",
      "      <td align=\"right\" valign=\"top\" class=\"title\"><span class=\"rank\">24.</span></td>      <td valign=\"top\" class=\"votelinks\"><center><a id='up_25084506' href='vote?id=25084506&amp;how=up&amp;goto=news'><div class='votearrow' title='upvote'></div></a></center></td><td class=\"title\"><a href=\"https://meta.wikimedia.org/wiki/So_you%27ve_made_a_mistake_and_it%27s_public...\" class=\"storylink\">So you've made a mistake and it's public</a><span class=\"sitebit comhead\"> (<a href=\"from?site=wikimedia.org\"><span class=\"sitestr\">wikimedia.org</span></a>)</span></td></tr><tr><td colspan=\"2\"></td><td class=\"subtext\">\n",
      "        <span class=\"score\" id=\"score_25084506\">770 points</span> by <a href=\"user?id=abbe98\" class=\"hnuser\">abbe98</a> <span class=\"age\"><a href=\"item?id=25084506\">19 hours ago</a></span> <span id=\"unv_25084506\"></span> | <a href=\"hide?id=25084506&amp;goto=news\">hide</a> | <a href=\"item?id=25084506\">354&nbsp;comments</a>              </td></tr>\n",
      "      <tr class=\"spacer\" style=\"height:5px\"></tr>\n",
      "                <tr class='athing' id='25088050'>\n",
      "      <td align=\"right\" valign=\"top\" class=\"title\"><span class=\"rank\">25.</span></td>      <td valign=\"top\" class=\"votelinks\"><center><a id='up_25088050' href='vote?id=25088050&amp;how=up&amp;goto=news'><div class='votearrow' title='upvote'></div></a></center></td><td class=\"title\"><a href=\"https://github.com/orf/gping\" class=\"storylink\">gping: Ping, but with a graph</a><span class=\"sitebit comhead\"> (<a href=\"from?site=github.com/orf\"><span class=\"sitestr\">github.com/orf</span></a>)</span></td></tr><tr><td colspan=\"2\"></td><td class=\"subtext\">\n",
      "        <span class=\"score\" id=\"score_25088050\">196 points</span> by <a href=\"user?id=orf\" class=\"hnuser\">orf</a> <span class=\"age\"><a href=\"item?id=25088050\">14 hours ago</a></span> <span id=\"unv_25088050\"></span> | <a href=\"hide?id=25088050&amp;goto=news\">hide</a> | <a href=\"item?id=25088050\">47&nbsp;comments</a>              </td></tr>\n",
      "      <tr class=\"spacer\" style=\"height:5px\"></tr>\n",
      "                <tr class='athing' id='25086519'>\n",
      "      <td align=\"right\" valign=\"top\" class=\"title\"><span class=\"rank\">26.</span></td>      <td valign=\"top\" class=\"votelinks\"><center><a id='up_25086519' href='vote?id=25086519&amp;how=up&amp;goto=news'><div class='votearrow' title='upvote'></div></a></center></td><td class=\"title\"><a href=\"https://ghidra-sre.org/releaseNotes_9.2.html\" class=\"storylink\">Ghidra 9.2</a><span class=\"sitebit comhead\"> (<a href=\"from?site=ghidra-sre.org\"><span class=\"sitestr\">ghidra-sre.org</span></a>)</span></td></tr><tr><td colspan=\"2\"></td><td class=\"subtext\">\n",
      "        <span class=\"score\" id=\"score_25086519\">180 points</span> by <a href=\"user?id=KindOne\" class=\"hnuser\">KindOne</a> <span class=\"age\"><a href=\"item?id=25086519\">17 hours ago</a></span> <span id=\"unv_25086519\"></span> | <a href=\"hide?id=25086519&amp;goto=news\">hide</a> | <a href=\"item?id=25086519\">74&nbsp;comments</a>              </td></tr>\n",
      "      <tr class=\"spacer\" style=\"height:5px\"></tr>\n",
      "                <tr class='athing' id='25090684'>\n",
      "      <td align=\"right\" valign=\"top\" class=\"title\"><span class=\"rank\">27.</span></td>      <td valign=\"top\" class=\"votelinks\"><center><a id='up_25090684' href='vote?id=25090684&amp;how=up&amp;goto=news'><div class='votearrow' title='upvote'></div></a></center></td><td class=\"title\"><a href=\"https://www.titech.ac.jp/english/news/2020/048014.html\" class=\"storylink\">Smaller than ever–exploring the unusual properties of quantum-sized materials</a><span class=\"sitebit comhead\"> (<a href=\"from?site=titech.ac.jp\"><span class=\"sitestr\">titech.ac.jp</span></a>)</span></td></tr><tr><td colspan=\"2\"></td><td class=\"subtext\">\n",
      "        <span class=\"score\" id=\"score_25090684\">21 points</span> by <a href=\"user?id=rustoo\" class=\"hnuser\">rustoo</a> <span class=\"age\"><a href=\"item?id=25090684\">6 hours ago</a></span> <span id=\"unv_25090684\"></span> | <a href=\"hide?id=25090684&amp;goto=news\">hide</a> | <a href=\"item?id=25090684\">1&nbsp;comment</a>              </td></tr>\n",
      "      <tr class=\"spacer\" style=\"height:5px\"></tr>\n",
      "                <tr class='athing' id='25084415'>\n",
      "      <td align=\"right\" valign=\"top\" class=\"title\"><span class=\"rank\">28.</span></td>      <td valign=\"top\" class=\"votelinks\"><center><a id='up_25084415' href='vote?id=25084415&amp;how=up&amp;goto=news'><div class='votearrow' title='upvote'></div></a></center></td><td class=\"title\"><a href=\"https://www.apple.com/legal/transparency/\" class=\"storylink\">Transparency Report</a><span class=\"sitebit comhead\"> (<a href=\"from?site=apple.com\"><span class=\"sitestr\">apple.com</span></a>)</span></td></tr><tr><td colspan=\"2\"></td><td class=\"subtext\">\n",
      "        <span class=\"score\" id=\"score_25084415\">190 points</span> by <a href=\"user?id=bhaile\" class=\"hnuser\">bhaile</a> <span class=\"age\"><a href=\"item?id=25084415\">19 hours ago</a></span> <span id=\"unv_25084415\"></span> | <a href=\"hide?id=25084415&amp;goto=news\">hide</a> | <a href=\"item?id=25084415\">91&nbsp;comments</a>              </td></tr>\n",
      "      <tr class=\"spacer\" style=\"height:5px\"></tr>\n",
      "                <tr class='athing' id='25088396'>\n",
      "      <td align=\"right\" valign=\"top\" class=\"title\"><span class=\"rank\">29.</span></td>      <td valign=\"top\" class=\"votelinks\"><center><a id='up_25088396' href='vote?id=25088396&amp;how=up&amp;goto=news'><div class='votearrow' title='upvote'></div></a></center></td><td class=\"title\"><a href=\"https://jessegalef.com/2020/08/09/a-pretty-good-mathematical-model-of-perfectionism/\" class=\"storylink\">A Pretty Good Mathematical Model of Perfectionism</a><span class=\"sitebit comhead\"> (<a href=\"from?site=jessegalef.com\"><span class=\"sitestr\">jessegalef.com</span></a>)</span></td></tr><tr><td colspan=\"2\"></td><td class=\"subtext\">\n",
      "        <span class=\"score\" id=\"score_25088396\">136 points</span> by <a href=\"user?id=freefrancisco\" class=\"hnuser\">freefrancisco</a> <span class=\"age\"><a href=\"item?id=25088396\">13 hours ago</a></span> <span id=\"unv_25088396\"></span> | <a href=\"hide?id=25088396&amp;goto=news\">hide</a> | <a href=\"item?id=25088396\">21&nbsp;comments</a>              </td></tr>\n",
      "      <tr class=\"spacer\" style=\"height:5px\"></tr>\n",
      "                <tr class='athing' id='25090334'>\n",
      "      <td align=\"right\" valign=\"top\" class=\"title\"><span class=\"rank\">30.</span></td>      <td valign=\"top\" class=\"votelinks\"><center><a id='up_25090334' href='vote?id=25090334&amp;how=up&amp;goto=news'><div class='votearrow' title='upvote'></div></a></center></td><td class=\"title\"><a href=\"https://patents.google.com/patent/US6573026B1/en\" class=\"storylink\">Femtosecond laser writing of glass, including borosilicate, sulfide, and lead</a><span class=\"sitebit comhead\"> (<a href=\"from?site=patents.google.com\"><span class=\"sitestr\">patents.google.com</span></a>)</span></td></tr><tr><td colspan=\"2\"></td><td class=\"subtext\">\n",
      "        <span class=\"score\" id=\"score_25090334\">26 points</span> by <a href=\"user?id=peter_d_sherman\" class=\"hnuser\">peter_d_sherman</a> <span class=\"age\"><a href=\"item?id=25090334\">8 hours ago</a></span> <span id=\"unv_25090334\"></span> | <a href=\"hide?id=25090334&amp;goto=news\">hide</a> | <a href=\"item?id=25090334\">10&nbsp;comments</a>              </td></tr>\n",
      "      <tr class=\"spacer\" style=\"height:5px\"></tr>\n",
      "            <tr class=\"morespace\" style=\"height:10px\"></tr><tr><td colspan=\"2\"></td><td class=\"title\"><a href=\"news?p=2\" class=\"morelink\" rel=\"next\">More</a></td></tr>\n",
      "  </table>\n",
      "</td></tr>\n",
      "<tr><td><img src=\"s.gif\" height=\"10\" width=\"0\"><table width=\"100%\" cellspacing=\"0\" cellpadding=\"1\"><tr><td bgcolor=\"#ff6600\"></td></tr></table><br><center><span class=\"yclinks\"><a href=\"newsguidelines.html\">Guidelines</a>\n",
      "        | <a href=\"newsfaq.html\">FAQ</a>\n",
      "        | <a href=\"lists\">Lists</a>\n",
      "        | <a href=\"https://github.com/HackerNews/API\">API</a>\n",
      "        | <a href=\"security.html\">Security</a>\n",
      "        | <a href=\"http://www.ycombinator.com/legal/\">Legal</a>\n",
      "        | <a href=\"http://www.ycombinator.com/apply/\">Apply to YC</a>\n",
      "        | <a href=\"mailto:hn@ycombinator.com\">Contact</a></span><br><br><form method=\"get\" action=\"//hn.algolia.com/\">Search:\n",
      "          <input type=\"text\" name=\"q\" value=\"\" size=\"17\" autocorrect=\"off\" spellcheck=\"false\" autocapitalize=\"off\" autocomplete=\"false\"></form>\n",
      "            </center></td></tr>\n",
      "      </table></center></body><script type='text/javascript' src='hn.js?fVvsFovZkUlGSpAVgifJ'></script></html>\n",
      "\n"
     ]
    }
   ],
   "source": [
    "import requests\n",
    "\n",
    "# Fetch a web page\n",
    "r = requests.get(\"https://news.ycombinator.com\")\n",
    "print(r.text)"
   ]
  },
  {
   "cell_type": "code",
   "execution_count": 5,
   "metadata": {},
   "outputs": [
    {
     "name": "stdout",
     "output_type": "stream",
     "text": [
      "\n",
      "        \n",
      "          \n",
      "        Hacker News\n",
      "        \n",
      "                  Hacker News\n",
      "              new | past | comments | ask | show | jobs | submit            \n",
      "                              login\n",
      "                          \n",
      "              \n",
      "\n",
      "              \n",
      "      1.      Never Use Google to Sign-In (singh.im)\n",
      "        192 points by gurjeet 2 hours ago  | hide | 115&nbsp;comments              \n",
      "      \n",
      "                \n",
      "      2.      On the expressive power of programming languages (pwlconf.org)\n",
      "        27 points by fanf2 1 hour ago  | hide | discuss              \n",
      "      \n",
      "                \n",
      "      3.      Personal Data Warehouses: Reclaiming Your Data (simonwillison.net)\n",
      "        265 points by simonw 8 hours ago  | hide | 31&nbsp;comments              \n",
      "      \n",
      "                \n",
      "      4.      British Airways Flight 5390 (wikipedia.org)\n",
      "        85 points by benbreen 5 hours ago  | hide | 45&nbsp;comments              \n",
      "      \n",
      "                \n",
      "      5.      PokéWalker hacking: A complete device takeover and ROM dump using infrared (dmitry.gr)\n",
      "        33 points by beefhash 2 hours ago  | hide | 6&nbsp;comments              \n",
      "      \n",
      "                \n",
      "      6.      Empathy and perspective taking: How social skills are built (mpg.de)\n",
      "        12 points by CapitalistCartr 59 minutes ago  | hide | 4&nbsp;comments              \n",
      "      \n",
      "                \n",
      "      7.      Google sued: Idle Android eats mobile data to send telemetry and preload ads (theregister.com)\n",
      "        40 points by WarOnPrivacy 47 minutes ago  | hide | 3&nbsp;comments              \n",
      "      \n",
      "                \n",
      "      8.      Tiny Bubbles Under a Ship May Be the Secret to Reducing Fuel Consumption (smithsonianmag.com)\n",
      "        6 points by pseudolus 1 hour ago  | hide | 1&nbsp;comment              \n",
      "      \n",
      "                \n",
      "      9.      Files Are Fraught with Peril (2019) (danluu.com)\n",
      "        65 points by bshanks 5 hours ago  | hide | 22&nbsp;comments              \n",
      "      \n",
      "                \n",
      "      10.      The Overnight Business Boom That Took a Century (wsj.com)\n",
      "        8 points by prostoalex 2 hours ago  | hide | discuss              \n",
      "      \n",
      "                \n",
      "      11.      Everything Is an X (lukeplant.me.uk)\n",
      "        66 points by polm23 5 hours ago  | hide | 20&nbsp;comments              \n",
      "      \n",
      "                \n",
      "      12.      Logseq – privacy-first, open-source knowledge sharing and management platform (github.com/logseq)\n",
      "        136 points by simonpure 8 hours ago  | hide | 14&nbsp;comments              \n",
      "      \n",
      "                \n",
      "      13.      Show HN: A Stargate in 140 chars of JavaScript (dwitter.net)\n",
      "        303 points by tomxor 13 hours ago  | hide | 37&nbsp;comments              \n",
      "      \n",
      "                \n",
      "      14.      We need less powerful languages (2015) (lukeplant.me.uk)\n",
      "        37 points by bshanks 5 hours ago  | hide | 22&nbsp;comments              \n",
      "      \n",
      "                \n",
      "      15.      GFXBench: Apple M1 (gfxbench.com)\n",
      "        250 points by admiralspoo 17 hours ago  | hide | 431&nbsp;comments              \n",
      "      \n",
      "                \n",
      "      16.      A Visual Comparison of macOS Catalina and Big Sur (andrewdenty.com)\n",
      "        3 points by Kaibeezy 1 hour ago  | hide | 1&nbsp;comment              \n",
      "      \n",
      "                \n",
      "      17.      Fact or fantasy? Tales from the linguistic fringe (knowablemagazine.org)\n",
      "        16 points by hoffmannesque 4 hours ago  | hide | 1&nbsp;comment              \n",
      "      \n",
      "                \n",
      "      18.      Rehex – Reverse Engineers' Hex Editor (github.com/solemnwarning)\n",
      "        138 points by app4soft 13 hours ago  | hide | 39&nbsp;comments              \n",
      "      \n",
      "                \n",
      "      19.      Simulating RAM in Clojure (stopa.io)\n",
      "        118 points by stopachka 12 hours ago  | hide | 9&nbsp;comments              \n",
      "      \n",
      "                \n",
      "      20.      GM recalling nearly 69,000 Bolt EVs for fire risks (reuters.com)\n",
      "        162 points by hhs 17 hours ago  | hide | 82&nbsp;comments              \n",
      "      \n",
      "                \n",
      "      21.      Play with Go (play-with-go.dev)\n",
      "        102 points by philosopher1234 13 hours ago  | hide | 5&nbsp;comments              \n",
      "      \n",
      "                \n",
      "      22.      Vulnerable yet vital: Why childhood and old age are key to our human capacities (aeon.co)\n",
      "        41 points by ohaikbai 8 hours ago  | hide | 3&nbsp;comments              \n",
      "      \n",
      "                \n",
      "      23.      The Big Lessons from History (collaborativefund.com)\n",
      "        34 points by yarapavan 6 hours ago  | hide | 18&nbsp;comments              \n",
      "      \n",
      "                \n",
      "      24.      So you've made a mistake and it's public (wikimedia.org)\n",
      "        770 points by abbe98 19 hours ago  | hide | 354&nbsp;comments              \n",
      "      \n",
      "                \n",
      "      25.      gping: Ping, but with a graph (github.com/orf)\n",
      "        196 points by orf 14 hours ago  | hide | 47&nbsp;comments              \n",
      "      \n",
      "                \n",
      "      26.      Ghidra 9.2 (ghidra-sre.org)\n",
      "        180 points by KindOne 17 hours ago  | hide | 74&nbsp;comments              \n",
      "      \n",
      "                \n",
      "      27.      Smaller than ever–exploring the unusual properties of quantum-sized materials (titech.ac.jp)\n",
      "        21 points by rustoo 6 hours ago  | hide | 1&nbsp;comment              \n",
      "      \n",
      "                \n",
      "      28.      Transparency Report (apple.com)\n",
      "        190 points by bhaile 19 hours ago  | hide | 91&nbsp;comments              \n",
      "      \n",
      "                \n",
      "      29.      A Pretty Good Mathematical Model of Perfectionism (jessegalef.com)\n",
      "        136 points by freefrancisco 13 hours ago  | hide | 21&nbsp;comments              \n",
      "      \n",
      "                \n",
      "      30.      Femtosecond laser writing of glass, including borosilicate, sulfide, and lead (patents.google.com)\n",
      "        26 points by peter_d_sherman 8 hours ago  | hide | 10&nbsp;comments              \n",
      "      \n",
      "            More\n",
      "  \n",
      "\n",
      "Guidelines\n",
      "        | FAQ\n",
      "        | Lists\n",
      "        | API\n",
      "        | Security\n",
      "        | Legal\n",
      "        | Apply to YC\n",
      "        | ContactSearch:\n",
      "          \n",
      "            \n",
      "      \n",
      "\n"
     ]
    }
   ],
   "source": [
    "import re\n",
    "\n",
    "# Remove HTML tags using RegEx\n",
    "pattern = re.compile(r'<.*?>')  # tags look like <...>\n",
    "print(pattern.sub('', r.text))  # replace them with blank"
   ]
  },
  {
   "cell_type": "code",
   "execution_count": 6,
   "metadata": {},
   "outputs": [
    {
     "name": "stdout",
     "output_type": "stream",
     "text": [
      "\n",
      "        \n",
      "          \n",
      "        Hacker News\n",
      "        \n",
      "                  Hacker News\n",
      "              new | past | comments | ask | show | jobs | submit            \n",
      "                              login\n",
      "                          \n",
      "              \n",
      "\n",
      "              \n",
      "      1.      Never Use Google to Sign-In (singh.im)\n",
      "        192 points by gurjeet 2 hours ago  | hide | 115 comments              \n",
      "      \n",
      "                \n",
      "      2.      On the expressive power of programming languages (pwlconf.org)\n",
      "        27 points by fanf2 1 hour ago  | hide | discuss              \n",
      "      \n",
      "                \n",
      "      3.      Personal Data Warehouses: Reclaiming Your Data (simonwillison.net)\n",
      "        265 points by simonw 8 hours ago  | hide | 31 comments              \n",
      "      \n",
      "                \n",
      "      4.      British Airways Flight 5390 (wikipedia.org)\n",
      "        85 points by benbreen 5 hours ago  | hide | 45 comments              \n",
      "      \n",
      "                \n",
      "      5.      PokéWalker hacking: A complete device takeover and ROM dump using infrared (dmitry.gr)\n",
      "        33 points by beefhash 2 hours ago  | hide | 6 comments              \n",
      "      \n",
      "                \n",
      "      6.      Empathy and perspective taking: How social skills are built (mpg.de)\n",
      "        12 points by CapitalistCartr 59 minutes ago  | hide | 4 comments              \n",
      "      \n",
      "                \n",
      "      7.      Google sued: Idle Android eats mobile data to send telemetry and preload ads (theregister.com)\n",
      "        40 points by WarOnPrivacy 47 minutes ago  | hide | 3 comments              \n",
      "      \n",
      "                \n",
      "      8.      Tiny Bubbles Under a Ship May Be the Secret to Reducing Fuel Consumption (smithsonianmag.com)\n",
      "        6 points by pseudolus 1 hour ago  | hide | 1 comment              \n",
      "      \n",
      "                \n",
      "      9.      Files Are Fraught with Peril (2019) (danluu.com)\n",
      "        65 points by bshanks 5 hours ago  | hide | 22 comments              \n",
      "      \n",
      "                \n",
      "      10.      The Overnight Business Boom That Took a Century (wsj.com)\n",
      "        8 points by prostoalex 2 hours ago  | hide | discuss              \n",
      "      \n",
      "                \n",
      "      11.      Everything Is an X (lukeplant.me.uk)\n",
      "        66 points by polm23 5 hours ago  | hide | 20 comments              \n",
      "      \n",
      "                \n",
      "      12.      Logseq – privacy-first, open-source knowledge sharing and management platform (github.com/logseq)\n",
      "        136 points by simonpure 8 hours ago  | hide | 14 comments              \n",
      "      \n",
      "                \n",
      "      13.      Show HN: A Stargate in 140 chars of JavaScript (dwitter.net)\n",
      "        303 points by tomxor 13 hours ago  | hide | 37 comments              \n",
      "      \n",
      "                \n",
      "      14.      We need less powerful languages (2015) (lukeplant.me.uk)\n",
      "        37 points by bshanks 5 hours ago  | hide | 22 comments              \n",
      "      \n",
      "                \n",
      "      15.      GFXBench: Apple M1 (gfxbench.com)\n",
      "        250 points by admiralspoo 17 hours ago  | hide | 431 comments              \n",
      "      \n",
      "                \n",
      "      16.      A Visual Comparison of macOS Catalina and Big Sur (andrewdenty.com)\n",
      "        3 points by Kaibeezy 1 hour ago  | hide | 1 comment              \n",
      "      \n",
      "                \n",
      "      17.      Fact or fantasy? Tales from the linguistic fringe (knowablemagazine.org)\n",
      "        16 points by hoffmannesque 4 hours ago  | hide | 1 comment              \n",
      "      \n",
      "                \n",
      "      18.      Rehex – Reverse Engineers' Hex Editor (github.com/solemnwarning)\n",
      "        138 points by app4soft 13 hours ago  | hide | 39 comments              \n",
      "      \n",
      "                \n",
      "      19.      Simulating RAM in Clojure (stopa.io)\n",
      "        118 points by stopachka 12 hours ago  | hide | 9 comments              \n",
      "      \n",
      "                \n",
      "      20.      GM recalling nearly 69,000 Bolt EVs for fire risks (reuters.com)\n",
      "        162 points by hhs 17 hours ago  | hide | 82 comments              \n",
      "      \n",
      "                \n",
      "      21.      Play with Go (play-with-go.dev)\n",
      "        102 points by philosopher1234 13 hours ago  | hide | 5 comments              \n",
      "      \n",
      "                \n",
      "      22.      Vulnerable yet vital: Why childhood and old age are key to our human capacities (aeon.co)\n",
      "        41 points by ohaikbai 8 hours ago  | hide | 3 comments              \n",
      "      \n",
      "                \n",
      "      23.      The Big Lessons from History (collaborativefund.com)\n",
      "        34 points by yarapavan 6 hours ago  | hide | 18 comments              \n",
      "      \n",
      "                \n",
      "      24.      So you've made a mistake and it's public (wikimedia.org)\n",
      "        770 points by abbe98 19 hours ago  | hide | 354 comments              \n",
      "      \n",
      "                \n",
      "      25.      gping: Ping, but with a graph (github.com/orf)\n",
      "        196 points by orf 14 hours ago  | hide | 47 comments              \n",
      "      \n",
      "                \n",
      "      26.      Ghidra 9.2 (ghidra-sre.org)\n",
      "        180 points by KindOne 17 hours ago  | hide | 74 comments              \n",
      "      \n",
      "                \n",
      "      27.      Smaller than ever–exploring the unusual properties of quantum-sized materials (titech.ac.jp)\n",
      "        21 points by rustoo 6 hours ago  | hide | 1 comment              \n",
      "      \n",
      "                \n",
      "      28.      Transparency Report (apple.com)\n",
      "        190 points by bhaile 19 hours ago  | hide | 91 comments              \n",
      "      \n",
      "                \n",
      "      29.      A Pretty Good Mathematical Model of Perfectionism (jessegalef.com)\n",
      "        136 points by freefrancisco 13 hours ago  | hide | 21 comments              \n",
      "      \n",
      "                \n",
      "      30.      Femtosecond laser writing of glass, including borosilicate, sulfide, and lead (patents.google.com)\n",
      "        26 points by peter_d_sherman 8 hours ago  | hide | 10 comments              \n",
      "      \n",
      "            More\n",
      "  \n",
      "\n",
      "Guidelines\n",
      "        | FAQ\n",
      "        | Lists\n",
      "        | API\n",
      "        | Security\n",
      "        | Legal\n",
      "        | Apply to YC\n",
      "        | ContactSearch:\n",
      "          \n",
      "            \n",
      "      \n",
      "\n"
     ]
    }
   ],
   "source": [
    "from bs4 import BeautifulSoup\n",
    "\n",
    "# Remove HTML tags using Beautiful Soup library\n",
    "soup = BeautifulSoup(r.text, \"html5lib\")\n",
    "print(soup.get_text())"
   ]
  },
  {
   "cell_type": "code",
   "execution_count": 7,
   "metadata": {
    "scrolled": true
   },
   "outputs": [
    {
     "data": {
      "text/plain": [
       "<tr class=\"athing\" id=\"25091420\">\n",
       "      <td align=\"right\" class=\"title\" valign=\"top\"><span class=\"rank\">1.</span></td>      <td class=\"votelinks\" valign=\"top\"><center><a href=\"vote?id=25091420&amp;how=up&amp;goto=news\" id=\"up_25091420\"><div class=\"votearrow\" title=\"upvote\"></div></a></center></td><td class=\"title\"><a class=\"storylink\" href=\"https://gurjeet.singh.im/blog/never-use-google-to-sign-in\">Never Use Google to Sign-In</a><span class=\"sitebit comhead\"> (<a href=\"from?site=singh.im\"><span class=\"sitestr\">singh.im</span></a>)</span></td></tr>"
      ]
     },
     "execution_count": 7,
     "metadata": {},
     "output_type": "execute_result"
    }
   ],
   "source": [
    "# Find all articles\n",
    "summaries = soup.find_all(\"tr\", class_=\"athing\")\n",
    "summaries[0]"
   ]
  },
  {
   "cell_type": "code",
   "execution_count": 8,
   "metadata": {},
   "outputs": [
    {
     "data": {
      "text/plain": [
       "'Never Use Google to Sign-In'"
      ]
     },
     "execution_count": 8,
     "metadata": {},
     "output_type": "execute_result"
    }
   ],
   "source": [
    "# Extract title\n",
    "summaries[0].find(\"a\", class_=\"storylink\").get_text().strip()"
   ]
  },
  {
   "cell_type": "code",
   "execution_count": 9,
   "metadata": {},
   "outputs": [
    {
     "name": "stdout",
     "output_type": "stream",
     "text": [
      "30 Article summaries found. Sample:\n",
      "Never Use Google to Sign-In\n"
     ]
    }
   ],
   "source": [
    "# Find all articles, extract titles\n",
    "articles = []\n",
    "summaries = soup.find_all(\"tr\", class_=\"athing\")\n",
    "for summary in summaries:\n",
    "    title = summary.find(\"a\", class_=\"storylink\").get_text().strip()\n",
    "    articles.append((title))\n",
    "\n",
    "print(len(articles), \"Article summaries found. Sample:\")\n",
    "print(articles[0])"
   ]
  },
  {
   "cell_type": "markdown",
   "metadata": {
    "collapsed": true
   },
   "source": [
    "## Normalization"
   ]
  },
  {
   "cell_type": "markdown",
   "metadata": {},
   "source": [
    "### Case Normalization"
   ]
  },
  {
   "cell_type": "code",
   "execution_count": 10,
   "metadata": {},
   "outputs": [
    {
     "name": "stdout",
     "output_type": "stream",
     "text": [
      "The first time you see The Second Renaissance it may look boring. Look at it at least twice and definitely watch part 2. It will change your view of the matrix. Are the human people the ones who started the war ? Is AI a bad thing ?\n"
     ]
    }
   ],
   "source": [
    "# Sample text\n",
    "text = \"The first time you see The Second Renaissance it may look boring. Look at it at least twice and definitely watch part 2. It will change your view of the matrix. Are the human people the ones who started the war ? Is AI a bad thing ?\"\n",
    "print(text)"
   ]
  },
  {
   "cell_type": "code",
   "execution_count": 11,
   "metadata": {},
   "outputs": [
    {
     "name": "stdout",
     "output_type": "stream",
     "text": [
      "the first time you see the second renaissance it may look boring. look at it at least twice and definitely watch part 2. it will change your view of the matrix. are the human people the ones who started the war ? is ai a bad thing ?\n"
     ]
    }
   ],
   "source": [
    "# Convert to lowercase\n",
    "text = text.lower() \n",
    "print(text)"
   ]
  },
  {
   "cell_type": "markdown",
   "metadata": {},
   "source": [
    "### Punctuation Removal"
   ]
  },
  {
   "cell_type": "code",
   "execution_count": 12,
   "metadata": {},
   "outputs": [
    {
     "name": "stdout",
     "output_type": "stream",
     "text": [
      "the first time you see the second renaissance it may look boring  look at it at least twice and definitely watch part 2  it will change your view of the matrix  are the human people the ones who started the war   is ai a bad thing  \n"
     ]
    }
   ],
   "source": [
    "import re\n",
    "\n",
    "# Remove punctuation characters\n",
    "text = re.sub(r\"[^a-zA-Z0-9]\", \" \", text) \n",
    "print(text)"
   ]
  },
  {
   "cell_type": "markdown",
   "metadata": {},
   "source": [
    "## Tokenization"
   ]
  },
  {
   "cell_type": "code",
   "execution_count": 13,
   "metadata": {},
   "outputs": [
    {
     "name": "stdout",
     "output_type": "stream",
     "text": [
      "['the', 'first', 'time', 'you', 'see', 'the', 'second', 'renaissance', 'it', 'may', 'look', 'boring', 'look', 'at', 'it', 'at', 'least', 'twice', 'and', 'definitely', 'watch', 'part', '2', 'it', 'will', 'change', 'your', 'view', 'of', 'the', 'matrix', 'are', 'the', 'human', 'people', 'the', 'ones', 'who', 'started', 'the', 'war', 'is', 'ai', 'a', 'bad', 'thing']\n"
     ]
    }
   ],
   "source": [
    "# Split text into tokens (words)\n",
    "words = text.split()\n",
    "print(words)"
   ]
  },
  {
   "cell_type": "markdown",
   "metadata": {},
   "source": [
    "### NLTK: Natural Language ToolKit"
   ]
  },
  {
   "cell_type": "code",
   "execution_count": 14,
   "metadata": {},
   "outputs": [],
   "source": [
    "import os\n",
    "import nltk\n",
    "nltk.data.path.append(os.path.join(os.getcwd(), \"nltk_data\"))"
   ]
  },
  {
   "cell_type": "code",
   "execution_count": 15,
   "metadata": {},
   "outputs": [
    {
     "name": "stdout",
     "output_type": "stream",
     "text": [
      "Dr. Smith graduated from the University of Washington. He later started an analytics firm called Lux, which catered to enterprise customers.\n"
     ]
    }
   ],
   "source": [
    "# Another sample text\n",
    "text = \"Dr. Smith graduated from the University of Washington. He later started an analytics firm called Lux, which catered to enterprise customers.\"\n",
    "print(text)"
   ]
  },
  {
   "cell_type": "code",
   "execution_count": 16,
   "metadata": {},
   "outputs": [
    {
     "name": "stdout",
     "output_type": "stream",
     "text": [
      "['Dr.', 'Smith', 'graduated', 'from', 'the', 'University', 'of', 'Washington', '.', 'He', 'later', 'started', 'an', 'analytics', 'firm', 'called', 'Lux', ',', 'which', 'catered', 'to', 'enterprise', 'customers', '.']\n"
     ]
    }
   ],
   "source": [
    "from nltk.tokenize import word_tokenize\n",
    "\n",
    "# Split text into words using NLTK\n",
    "words = word_tokenize(text)\n",
    "print(words)"
   ]
  },
  {
   "cell_type": "code",
   "execution_count": 17,
   "metadata": {},
   "outputs": [
    {
     "name": "stdout",
     "output_type": "stream",
     "text": [
      "['Dr. Smith graduated from the University of Washington.', 'He later started an analytics firm called Lux, which catered to enterprise customers.']\n"
     ]
    }
   ],
   "source": [
    "from nltk.tokenize import sent_tokenize\n",
    "\n",
    "# Split text into sentences\n",
    "sentences = sent_tokenize(text)\n",
    "print(sentences)"
   ]
  },
  {
   "cell_type": "code",
   "execution_count": 18,
   "metadata": {},
   "outputs": [
    {
     "name": "stdout",
     "output_type": "stream",
     "text": [
      "['i', 'me', 'my', 'myself', 'we', 'our', 'ours', 'ourselves', 'you', \"you're\", \"you've\", \"you'll\", \"you'd\", 'your', 'yours', 'yourself', 'yourselves', 'he', 'him', 'his', 'himself', 'she', \"she's\", 'her', 'hers', 'herself', 'it', \"it's\", 'its', 'itself', 'they', 'them', 'their', 'theirs', 'themselves', 'what', 'which', 'who', 'whom', 'this', 'that', \"that'll\", 'these', 'those', 'am', 'is', 'are', 'was', 'were', 'be', 'been', 'being', 'have', 'has', 'had', 'having', 'do', 'does', 'did', 'doing', 'a', 'an', 'the', 'and', 'but', 'if', 'or', 'because', 'as', 'until', 'while', 'of', 'at', 'by', 'for', 'with', 'about', 'against', 'between', 'into', 'through', 'during', 'before', 'after', 'above', 'below', 'to', 'from', 'up', 'down', 'in', 'out', 'on', 'off', 'over', 'under', 'again', 'further', 'then', 'once', 'here', 'there', 'when', 'where', 'why', 'how', 'all', 'any', 'both', 'each', 'few', 'more', 'most', 'other', 'some', 'such', 'no', 'nor', 'not', 'only', 'own', 'same', 'so', 'than', 'too', 'very', 's', 't', 'can', 'will', 'just', 'don', \"don't\", 'should', \"should've\", 'now', 'd', 'll', 'm', 'o', 're', 've', 'y', 'ain', 'aren', \"aren't\", 'couldn', \"couldn't\", 'didn', \"didn't\", 'doesn', \"doesn't\", 'hadn', \"hadn't\", 'hasn', \"hasn't\", 'haven', \"haven't\", 'isn', \"isn't\", 'ma', 'mightn', \"mightn't\", 'mustn', \"mustn't\", 'needn', \"needn't\", 'shan', \"shan't\", 'shouldn', \"shouldn't\", 'wasn', \"wasn't\", 'weren', \"weren't\", 'won', \"won't\", 'wouldn', \"wouldn't\"]\n"
     ]
    }
   ],
   "source": [
    "# List stop words\n",
    "from nltk.corpus import stopwords\n",
    "print(stopwords.words(\"english\"))"
   ]
  },
  {
   "cell_type": "code",
   "execution_count": 19,
   "metadata": {},
   "outputs": [
    {
     "name": "stdout",
     "output_type": "stream",
     "text": [
      "['the', 'first', 'time', 'you', 'see', 'the', 'second', 'renaissance', 'it', 'may', 'look', 'boring', 'look', 'at', 'it', 'at', 'least', 'twice', 'and', 'definitely', 'watch', 'part', '2', 'it', 'will', 'change', 'your', 'view', 'of', 'the', 'matrix', 'are', 'the', 'human', 'people', 'the', 'ones', 'who', 'started', 'the', 'war', 'is', 'ai', 'a', 'bad', 'thing']\n"
     ]
    }
   ],
   "source": [
    "# Reset text\n",
    "text = \"The first time you see The Second Renaissance it may look boring. Look at it at least twice and definitely watch part 2. It will change your view of the matrix. Are the human people the ones who started the war ? Is AI a bad thing ?\"\n",
    "\n",
    "# Normalize it\n",
    "text = re.sub(r\"[^a-zA-Z0-9]\", \" \", text.lower())\n",
    "\n",
    "# Tokenize it\n",
    "words = text.split()\n",
    "print(words)"
   ]
  },
  {
   "cell_type": "code",
   "execution_count": 20,
   "metadata": {},
   "outputs": [
    {
     "name": "stdout",
     "output_type": "stream",
     "text": [
      "['first', 'time', 'see', 'second', 'renaissance', 'may', 'look', 'boring', 'look', 'least', 'twice', 'definitely', 'watch', 'part', '2', 'change', 'view', 'matrix', 'human', 'people', 'ones', 'started', 'war', 'ai', 'bad', 'thing']\n"
     ]
    }
   ],
   "source": [
    "# Remove stop words\n",
    "words = [w for w in words if w not in stopwords.words(\"english\")]\n",
    "print(words)"
   ]
  },
  {
   "cell_type": "markdown",
   "metadata": {},
   "source": [
    "### Sentence Parsing"
   ]
  },
  {
   "cell_type": "code",
   "execution_count": 21,
   "metadata": {},
   "outputs": [
    {
     "name": "stdout",
     "output_type": "stream",
     "text": [
      "(S\n",
      "  (NP I)\n",
      "  (VP\n",
      "    (VP (V shot) (NP (Det an) (N elephant)))\n",
      "    (PP (P in) (NP (Det my) (N pajamas)))))\n",
      "(S\n",
      "  (NP I)\n",
      "  (VP\n",
      "    (V shot)\n",
      "    (NP (Det an) (N elephant) (PP (P in) (NP (Det my) (N pajamas))))))\n"
     ]
    }
   ],
   "source": [
    "import nltk\n",
    "\n",
    "# Define a custom grammar\n",
    "my_grammar = nltk.CFG.fromstring(\"\"\"\n",
    "S -> NP VP\n",
    "PP -> P NP\n",
    "NP -> Det N | Det N PP | 'I'\n",
    "VP -> V NP | VP PP\n",
    "Det -> 'an' | 'my'\n",
    "N -> 'elephant' | 'pajamas'\n",
    "V -> 'shot'\n",
    "P -> 'in'\n",
    "\"\"\")\n",
    "parser = nltk.ChartParser(my_grammar)\n",
    "\n",
    "# Parse a sentence\n",
    "sentence = word_tokenize(\"I shot an elephant in my pajamas\")\n",
    "for tree in parser.parse(sentence):\n",
    "    print(tree)"
   ]
  },
  {
   "cell_type": "markdown",
   "metadata": {},
   "source": [
    "## Stemming & Lemmatization\n",
    "\n",
    "### Stemming"
   ]
  },
  {
   "cell_type": "code",
   "execution_count": 22,
   "metadata": {},
   "outputs": [
    {
     "name": "stdout",
     "output_type": "stream",
     "text": [
      "['first', 'time', 'see', 'second', 'renaiss', 'may', 'look', 'bore', 'look', 'least', 'twice', 'definit', 'watch', 'part', '2', 'chang', 'view', 'matrix', 'human', 'peopl', 'one', 'start', 'war', 'ai', 'bad', 'thing']\n"
     ]
    }
   ],
   "source": [
    "from nltk.stem.porter import PorterStemmer\n",
    "\n",
    "# Reduce words to their stems\n",
    "stemmed = [PorterStemmer().stem(w) for w in words]\n",
    "print(stemmed)"
   ]
  },
  {
   "cell_type": "markdown",
   "metadata": {},
   "source": [
    "### Lemmatization"
   ]
  },
  {
   "cell_type": "code",
   "execution_count": 23,
   "metadata": {},
   "outputs": [
    {
     "name": "stdout",
     "output_type": "stream",
     "text": [
      "['first', 'time', 'see', 'second', 'renaissance', 'may', 'look', 'boring', 'look', 'least', 'twice', 'definitely', 'watch', 'part', '2', 'change', 'view', 'matrix', 'human', 'people', 'one', 'started', 'war', 'ai', 'bad', 'thing']\n"
     ]
    }
   ],
   "source": [
    "from nltk.stem.wordnet import WordNetLemmatizer\n",
    "\n",
    "# Reduce words to their root form\n",
    "lemmed = [WordNetLemmatizer().lemmatize(w) for w in words]\n",
    "print(lemmed)"
   ]
  },
  {
   "cell_type": "code",
   "execution_count": 24,
   "metadata": {},
   "outputs": [
    {
     "name": "stdout",
     "output_type": "stream",
     "text": [
      "['first', 'time', 'see', 'second', 'renaissance', 'may', 'look', 'bore', 'look', 'least', 'twice', 'definitely', 'watch', 'part', '2', 'change', 'view', 'matrix', 'human', 'people', 'one', 'start', 'war', 'ai', 'bad', 'thing']\n"
     ]
    }
   ],
   "source": [
    "# Lemmatize verbs by specifying pos\n",
    "lemmed = [WordNetLemmatizer().lemmatize(w, pos='v') for w in lemmed]\n",
    "print(lemmed)"
   ]
  },
  {
   "cell_type": "code",
   "execution_count": null,
   "metadata": {},
   "outputs": [],
   "source": []
  }
 ],
 "metadata": {
  "kernelspec": {
   "display_name": "Python 3",
   "language": "python",
   "name": "python3"
  },
  "language_info": {
   "codemirror_mode": {
    "name": "ipython",
    "version": 3
   },
   "file_extension": ".py",
   "mimetype": "text/x-python",
   "name": "python",
   "nbconvert_exporter": "python",
   "pygments_lexer": "ipython3",
   "version": "3.6.3"
  }
 },
 "nbformat": 4,
 "nbformat_minor": 2
}
